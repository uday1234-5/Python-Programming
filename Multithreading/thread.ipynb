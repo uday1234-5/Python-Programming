{
 "cells": [
  {
   "cell_type": "code",
   "execution_count": 2,
   "metadata": {},
   "outputs": [],
   "source": [
    "import threading\n",
    "import time"
   ]
  },
  {
   "cell_type": "code",
   "execution_count": 13,
   "metadata": {},
   "outputs": [],
   "source": [
    "def fun1():\n",
    "    for i in range(1,11):\n",
    "        print(i)\n",
    "        time.sleep(1)\n",
    "def fun2():\n",
    "    for i in range(65,76):\n",
    "        print(chr(i))\n",
    "        time.sleep(1)"
   ]
  },
  {
   "cell_type": "code",
   "execution_count": 7,
   "metadata": {},
   "outputs": [
    {
     "name": "stdout",
     "output_type": "stream",
     "text": [
      "1\n",
      "2\n",
      "3\n",
      "4\n",
      "5\n",
      "6\n",
      "7\n",
      "8\n",
      "9\n",
      "10\n",
      "A\n",
      "B\n",
      "C\n",
      "D\n",
      "E\n",
      "F\n",
      "G\n",
      "H\n",
      "I\n",
      "J\n",
      "K\n"
     ]
    }
   ],
   "source": [
    "fun1()\n",
    "fun2()"
   ]
  },
  {
   "cell_type": "code",
   "execution_count": 14,
   "metadata": {},
   "outputs": [
    {
     "name": "stdout",
     "output_type": "stream",
     "text": [
      "1\n",
      "A\n"
     ]
    },
    {
     "name": "stdout",
     "output_type": "stream",
     "text": [
      "2\n",
      "B\n",
      "3\n",
      "C\n",
      "D4\n",
      "\n",
      "5\n",
      "E\n",
      "6F\n",
      "\n",
      "7G\n",
      "\n",
      "H8\n",
      "\n",
      "9I\n",
      "\n",
      "J\n",
      "10\n",
      "K\n"
     ]
    }
   ],
   "source": [
    "t1 = threading.Thread(target=fun1)\n",
    "t2 = threading.Thread(target=fun2)\n",
    "t1.start()\n",
    "t2.start()"
   ]
  },
  {
   "cell_type": "code",
   "execution_count": 15,
   "metadata": {},
   "outputs": [],
   "source": [
    "def fun1(t):\n",
    "    for i in range(1,11):\n",
    "        print(i)\n",
    "        time.sleep(t)\n",
    "def fun2(t):\n",
    "    for i in range(65,76):\n",
    "        print(chr(i))\n",
    "        time.sleep(t)"
   ]
  },
  {
   "cell_type": "code",
   "execution_count": 16,
   "metadata": {},
   "outputs": [
    {
     "name": "stdout",
     "output_type": "stream",
     "text": [
      "1\n",
      "A\n"
     ]
    },
    {
     "name": "stdout",
     "output_type": "stream",
     "text": [
      "2\n",
      "B\n",
      "C\n",
      "3\n",
      "D\n",
      "4\n",
      "E\n",
      "5\n",
      "F\n",
      "6\n",
      "G\n",
      "7\n",
      "H\n",
      "8\n",
      "I\n",
      "9\n",
      "J\n",
      "10\n",
      "K\n"
     ]
    }
   ],
   "source": [
    "t1 = threading.Thread(target=fun1,args=[.1])\n",
    "t2 = threading.Thread(target=fun2,args=[0.1])\n",
    "t1.start()\n",
    "t2.start()"
   ]
  }
 ],
 "metadata": {
  "kernelspec": {
   "display_name": "Python 3",
   "language": "python",
   "name": "python3"
  },
  "language_info": {
   "codemirror_mode": {
    "name": "ipython",
    "version": 3
   },
   "file_extension": ".py",
   "mimetype": "text/x-python",
   "name": "python",
   "nbconvert_exporter": "python",
   "pygments_lexer": "ipython3",
   "version": "3.11.0"
  }
 },
 "nbformat": 4,
 "nbformat_minor": 2
}
