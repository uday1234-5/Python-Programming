{
 "cells": [
  {
   "cell_type": "markdown",
   "metadata": {},
   "source": [
    "#### Threaded Random Password Generator: Create a Python program that generates a random password of given length in a separate thread and prints the result.\n",
    "\n",
    "Description: This program generates a random password of a given length in a separate thread.\n",
    "\n",
    "Sample Input:\n",
    "\n",
    "Enter the length of the password: 8\n",
    "Sample Output:\n",
    "\n",
    "Random Password: xY8$z2Pq\n"
   ]
  },
  {
   "cell_type": "code",
   "execution_count": null,
   "metadata": {},
   "outputs": [],
   "source": [
    "import threading\n",
    "\n",
    "import random"
   ]
  },
  {
   "cell_type": "code",
   "execution_count": null,
   "metadata": {},
   "outputs": [],
   "source": [
    "import time\n",
    "import threading\n",
    "import random\n",
    "import string\n",
    "\n",
    "def generate_password(length):\n",
    "    while 1:\n",
    "        password = ''.join(random.choices(string.ascii_letters + string.digits , k=length))\n",
    "        print(\"Random Password:\", password)\n",
    "        time.sleep(1)\n",
    "length = int(input(\"Enter the length of the password: \"))\n",
    "\n",
    "# Create a new thread for generating the password\n",
    "password_thread = threading.Thread(target=generate_password, args=(length,))\n",
    "\n",
    "# Start the thread\n",
    "password_thread.start()\n",
    "\n",
    "# Wait for the thread to finish\n",
    "password_thread.join()"
   ]
  }
 ],
 "metadata": {
  "kernelspec": {
   "display_name": "Python 3",
   "language": "python",
   "name": "python3"
  },
  "language_info": {
   "codemirror_mode": {
    "name": "ipython",
    "version": 3
   },
   "file_extension": ".py",
   "mimetype": "text/x-python",
   "name": "python",
   "nbconvert_exporter": "python",
   "pygments_lexer": "ipython3",
   "version": "3.11.0"
  }
 },
 "nbformat": 4,
 "nbformat_minor": 2
}
