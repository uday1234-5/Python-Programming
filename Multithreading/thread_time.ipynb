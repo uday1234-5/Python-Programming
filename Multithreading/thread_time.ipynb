{
 "cells": [
  {
   "cell_type": "markdown",
   "metadata": {},
   "source": [
    "#### Threaded Timer App: Create a Python application that prints \"Timer expired!\" after a specified delay using threading.Timer.\n",
    "\n",
    "Description: This program prompts the user to enter a delay time in seconds. After the specified delay, it prints \"Timer expired!\" using a separate thread.\n",
    "\n",
    "Sample Input:\n",
    "\n",
    "Enter the delay time (in seconds): 5\n",
    "Sample Output:\n",
    "\n",
    "Timer started...\n",
    "Timer expired!"
   ]
  },
  {
   "cell_type": "code",
   "execution_count": 12,
   "metadata": {},
   "outputs": [],
   "source": [
    "import threading\n",
    "import time"
   ]
  },
  {
   "cell_type": "code",
   "execution_count": 13,
   "metadata": {},
   "outputs": [],
   "source": [
    "def time_thread(t):\n",
    "    print(\"Time Start......\")\n",
    "    for i in range(1,t+1):\n",
    "        print(i)\n",
    "        time.sleep(1)\n",
    "    print(\"Time expired......\")\n",
    "        "
   ]
  },
  {
   "cell_type": "code",
   "execution_count": 14,
   "metadata": {},
   "outputs": [
    {
     "name": "stdout",
     "output_type": "stream",
     "text": [
      "Time Start......\n",
      "1\n"
     ]
    },
    {
     "name": "stdout",
     "output_type": "stream",
     "text": [
      "2\n",
      "3\n",
      "4\n",
      "5\n",
      "Time expired......\n"
     ]
    }
   ],
   "source": [
    "t = int(input(\"Enter time : \"))\n",
    "t1 = threading.Thread(target = time_thread , args = [t])\n",
    "t1.start()"
   ]
  }
 ],
 "metadata": {
  "kernelspec": {
   "display_name": "Python 3",
   "language": "python",
   "name": "python3"
  },
  "language_info": {
   "codemirror_mode": {
    "name": "ipython",
    "version": 3
   },
   "file_extension": ".py",
   "mimetype": "text/x-python",
   "name": "python",
   "nbconvert_exporter": "python",
   "pygments_lexer": "ipython3",
   "version": "3.11.0"
  }
 },
 "nbformat": 4,
 "nbformat_minor": 2
}
