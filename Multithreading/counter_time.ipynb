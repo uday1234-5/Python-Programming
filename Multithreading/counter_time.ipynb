{
 "cells": [
  {
   "cell_type": "markdown",
   "metadata": {},
   "source": [
    "#### Threaded Countdown App: Write a Python application that counts down from 10 to 1, printing each number with a delay of one second between them using threading.\n",
    "\n",
    "Description: This program counts down from 10 to 1, printing each number with a delay of one second between them using separate threads.\n",
    "\n",
    "Sample Output:\n",
    "\n",
    "10\n",
    "9\n",
    "8\n",
    "7\n",
    "6\n",
    "5\n",
    "4\n",
    "3\n",
    "2\n",
    "1"
   ]
  },
  {
   "cell_type": "markdown",
   "metadata": {},
   "source": []
  },
  {
   "cell_type": "code",
   "execution_count": 1,
   "metadata": {},
   "outputs": [],
   "source": [
    "import threading\n",
    "import time"
   ]
  },
  {
   "cell_type": "code",
   "execution_count": 2,
   "metadata": {},
   "outputs": [],
   "source": [
    "def time_thread(t):\n",
    "    print(\"Counter Start......\")\n",
    "    for i in range(t,0,-1):\n",
    "        print(i)\n",
    "        time.sleep(1)\n",
    "    print(\"Counter Stop.....\")\n",
    "        "
   ]
  },
  {
   "cell_type": "code",
   "execution_count": 3,
   "metadata": {},
   "outputs": [
    {
     "name": "stdout",
     "output_type": "stream",
     "text": [
      "Counter Start......\n",
      "5\n"
     ]
    },
    {
     "name": "stdout",
     "output_type": "stream",
     "text": [
      "4\n",
      "3\n",
      "2\n",
      "1\n",
      "Counter Stop.....\n"
     ]
    }
   ],
   "source": [
    "t = int(input(\"Enter time : \"))\n",
    "t1 = threading.Thread(target = time_thread , args = [t])\n",
    "t1.start()\n"
   ]
  }
 ],
 "metadata": {
  "kernelspec": {
   "display_name": "Python 3",
   "language": "python",
   "name": "python3"
  },
  "language_info": {
   "codemirror_mode": {
    "name": "ipython",
    "version": 3
   },
   "file_extension": ".py",
   "mimetype": "text/x-python",
   "name": "python",
   "nbconvert_exporter": "python",
   "pygments_lexer": "ipython3",
   "version": "3.11.0"
  }
 },
 "nbformat": 4,
 "nbformat_minor": 2
}
